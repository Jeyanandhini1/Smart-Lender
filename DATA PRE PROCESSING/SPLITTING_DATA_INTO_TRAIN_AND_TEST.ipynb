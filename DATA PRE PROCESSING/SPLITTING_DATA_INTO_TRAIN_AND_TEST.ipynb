{
  "nbformat": 4,
  "nbformat_minor": 0,
  "metadata": {
    "colab": {
      "provenance": []
    },
    "kernelspec": {
      "name": "python3",
      "display_name": "Python 3"
    },
    "language_info": {
      "name": "python"
    }
  },
  "cells": [
    {
      "cell_type": "markdown",
      "source": [
        "# **Splitting Data Into Train And Test**\n",
        "\n",
        "The dataset is already download in .csv format"
      ],
      "metadata": {
        "id": "K9gZaZTczAra"
      }
    },
    {
      "cell_type": "markdown",
      "source": [
        "# **IMPORTING THE PACKAGE**"
      ],
      "metadata": {
        "id": "4gU8SLZ6zIhe"
      }
    },
    {
      "cell_type": "code",
      "source": [
        "import numpy as np \n",
        "import pandas as pd\n",
        "\n",
        "import warnings\n",
        "warnings.filterwarnings('ignore')"
      ],
      "metadata": {
        "id": "oGsKwRlkzLgr"
      },
      "execution_count": 2,
      "outputs": []
    },
    {
      "cell_type": "markdown",
      "source": [
        "# **Load the dataset**"
      ],
      "metadata": {
        "id": "voqxbhNrzkRG"
      }
    },
    {
      "cell_type": "code",
      "source": [
        "df=pd.read_csv(\"/content/loan_prediction.csv\")"
      ],
      "metadata": {
        "id": "L373uDRKzhIa"
      },
      "execution_count": 3,
      "outputs": []
    },
    {
      "cell_type": "code",
      "source": [
        "df"
      ],
      "metadata": {
        "colab": {
          "base_uri": "https://localhost:8080/",
          "height": 468
        },
        "id": "2jxIqGGMzqR1",
        "outputId": "b222d8a5-059d-4305-f6c9-4ca50ad71235"
      },
      "execution_count": 4,
      "outputs": [
        {
          "output_type": "execute_result",
          "data": {
            "text/plain": [
              "      Loan_ID  Gender Married Dependents     Education Self_Employed  \\\n",
              "0    LP001002    Male      No          0      Graduate            No   \n",
              "1    LP001003    Male     Yes          1      Graduate            No   \n",
              "2    LP001005    Male     Yes          0      Graduate           Yes   \n",
              "3    LP001006    Male     Yes          0  Not Graduate            No   \n",
              "4    LP001008    Male      No          0      Graduate            No   \n",
              "..        ...     ...     ...        ...           ...           ...   \n",
              "609  LP002978  Female      No          0      Graduate            No   \n",
              "610  LP002979    Male     Yes         3+      Graduate            No   \n",
              "611  LP002983    Male     Yes          1      Graduate            No   \n",
              "612  LP002984    Male     Yes          2      Graduate            No   \n",
              "613  LP002990  Female      No          0      Graduate           Yes   \n",
              "\n",
              "     ApplicantIncome  CoapplicantIncome  LoanAmount  Loan_Amount_Term  \\\n",
              "0               5849                0.0         NaN             360.0   \n",
              "1               4583             1508.0       128.0             360.0   \n",
              "2               3000                0.0        66.0             360.0   \n",
              "3               2583             2358.0       120.0             360.0   \n",
              "4               6000                0.0       141.0             360.0   \n",
              "..               ...                ...         ...               ...   \n",
              "609             2900                0.0        71.0             360.0   \n",
              "610             4106                0.0        40.0             180.0   \n",
              "611             8072              240.0       253.0             360.0   \n",
              "612             7583                0.0       187.0             360.0   \n",
              "613             4583                0.0       133.0             360.0   \n",
              "\n",
              "     Credit_History Property_Area Loan_Status  \n",
              "0               1.0         Urban           Y  \n",
              "1               1.0         Rural           N  \n",
              "2               1.0         Urban           Y  \n",
              "3               1.0         Urban           Y  \n",
              "4               1.0         Urban           Y  \n",
              "..              ...           ...         ...  \n",
              "609             1.0         Rural           Y  \n",
              "610             1.0         Rural           Y  \n",
              "611             1.0         Urban           Y  \n",
              "612             1.0         Urban           Y  \n",
              "613             0.0     Semiurban           N  \n",
              "\n",
              "[614 rows x 13 columns]"
            ],
            "text/html": [
              "\n",
              "  <div id=\"df-65e47b34-cabc-4496-9c82-e57cd2d43f05\">\n",
              "    <div class=\"colab-df-container\">\n",
              "      <div>\n",
              "<style scoped>\n",
              "    .dataframe tbody tr th:only-of-type {\n",
              "        vertical-align: middle;\n",
              "    }\n",
              "\n",
              "    .dataframe tbody tr th {\n",
              "        vertical-align: top;\n",
              "    }\n",
              "\n",
              "    .dataframe thead th {\n",
              "        text-align: right;\n",
              "    }\n",
              "</style>\n",
              "<table border=\"1\" class=\"dataframe\">\n",
              "  <thead>\n",
              "    <tr style=\"text-align: right;\">\n",
              "      <th></th>\n",
              "      <th>Loan_ID</th>\n",
              "      <th>Gender</th>\n",
              "      <th>Married</th>\n",
              "      <th>Dependents</th>\n",
              "      <th>Education</th>\n",
              "      <th>Self_Employed</th>\n",
              "      <th>ApplicantIncome</th>\n",
              "      <th>CoapplicantIncome</th>\n",
              "      <th>LoanAmount</th>\n",
              "      <th>Loan_Amount_Term</th>\n",
              "      <th>Credit_History</th>\n",
              "      <th>Property_Area</th>\n",
              "      <th>Loan_Status</th>\n",
              "    </tr>\n",
              "  </thead>\n",
              "  <tbody>\n",
              "    <tr>\n",
              "      <th>0</th>\n",
              "      <td>LP001002</td>\n",
              "      <td>Male</td>\n",
              "      <td>No</td>\n",
              "      <td>0</td>\n",
              "      <td>Graduate</td>\n",
              "      <td>No</td>\n",
              "      <td>5849</td>\n",
              "      <td>0.0</td>\n",
              "      <td>NaN</td>\n",
              "      <td>360.0</td>\n",
              "      <td>1.0</td>\n",
              "      <td>Urban</td>\n",
              "      <td>Y</td>\n",
              "    </tr>\n",
              "    <tr>\n",
              "      <th>1</th>\n",
              "      <td>LP001003</td>\n",
              "      <td>Male</td>\n",
              "      <td>Yes</td>\n",
              "      <td>1</td>\n",
              "      <td>Graduate</td>\n",
              "      <td>No</td>\n",
              "      <td>4583</td>\n",
              "      <td>1508.0</td>\n",
              "      <td>128.0</td>\n",
              "      <td>360.0</td>\n",
              "      <td>1.0</td>\n",
              "      <td>Rural</td>\n",
              "      <td>N</td>\n",
              "    </tr>\n",
              "    <tr>\n",
              "      <th>2</th>\n",
              "      <td>LP001005</td>\n",
              "      <td>Male</td>\n",
              "      <td>Yes</td>\n",
              "      <td>0</td>\n",
              "      <td>Graduate</td>\n",
              "      <td>Yes</td>\n",
              "      <td>3000</td>\n",
              "      <td>0.0</td>\n",
              "      <td>66.0</td>\n",
              "      <td>360.0</td>\n",
              "      <td>1.0</td>\n",
              "      <td>Urban</td>\n",
              "      <td>Y</td>\n",
              "    </tr>\n",
              "    <tr>\n",
              "      <th>3</th>\n",
              "      <td>LP001006</td>\n",
              "      <td>Male</td>\n",
              "      <td>Yes</td>\n",
              "      <td>0</td>\n",
              "      <td>Not Graduate</td>\n",
              "      <td>No</td>\n",
              "      <td>2583</td>\n",
              "      <td>2358.0</td>\n",
              "      <td>120.0</td>\n",
              "      <td>360.0</td>\n",
              "      <td>1.0</td>\n",
              "      <td>Urban</td>\n",
              "      <td>Y</td>\n",
              "    </tr>\n",
              "    <tr>\n",
              "      <th>4</th>\n",
              "      <td>LP001008</td>\n",
              "      <td>Male</td>\n",
              "      <td>No</td>\n",
              "      <td>0</td>\n",
              "      <td>Graduate</td>\n",
              "      <td>No</td>\n",
              "      <td>6000</td>\n",
              "      <td>0.0</td>\n",
              "      <td>141.0</td>\n",
              "      <td>360.0</td>\n",
              "      <td>1.0</td>\n",
              "      <td>Urban</td>\n",
              "      <td>Y</td>\n",
              "    </tr>\n",
              "    <tr>\n",
              "      <th>...</th>\n",
              "      <td>...</td>\n",
              "      <td>...</td>\n",
              "      <td>...</td>\n",
              "      <td>...</td>\n",
              "      <td>...</td>\n",
              "      <td>...</td>\n",
              "      <td>...</td>\n",
              "      <td>...</td>\n",
              "      <td>...</td>\n",
              "      <td>...</td>\n",
              "      <td>...</td>\n",
              "      <td>...</td>\n",
              "      <td>...</td>\n",
              "    </tr>\n",
              "    <tr>\n",
              "      <th>609</th>\n",
              "      <td>LP002978</td>\n",
              "      <td>Female</td>\n",
              "      <td>No</td>\n",
              "      <td>0</td>\n",
              "      <td>Graduate</td>\n",
              "      <td>No</td>\n",
              "      <td>2900</td>\n",
              "      <td>0.0</td>\n",
              "      <td>71.0</td>\n",
              "      <td>360.0</td>\n",
              "      <td>1.0</td>\n",
              "      <td>Rural</td>\n",
              "      <td>Y</td>\n",
              "    </tr>\n",
              "    <tr>\n",
              "      <th>610</th>\n",
              "      <td>LP002979</td>\n",
              "      <td>Male</td>\n",
              "      <td>Yes</td>\n",
              "      <td>3+</td>\n",
              "      <td>Graduate</td>\n",
              "      <td>No</td>\n",
              "      <td>4106</td>\n",
              "      <td>0.0</td>\n",
              "      <td>40.0</td>\n",
              "      <td>180.0</td>\n",
              "      <td>1.0</td>\n",
              "      <td>Rural</td>\n",
              "      <td>Y</td>\n",
              "    </tr>\n",
              "    <tr>\n",
              "      <th>611</th>\n",
              "      <td>LP002983</td>\n",
              "      <td>Male</td>\n",
              "      <td>Yes</td>\n",
              "      <td>1</td>\n",
              "      <td>Graduate</td>\n",
              "      <td>No</td>\n",
              "      <td>8072</td>\n",
              "      <td>240.0</td>\n",
              "      <td>253.0</td>\n",
              "      <td>360.0</td>\n",
              "      <td>1.0</td>\n",
              "      <td>Urban</td>\n",
              "      <td>Y</td>\n",
              "    </tr>\n",
              "    <tr>\n",
              "      <th>612</th>\n",
              "      <td>LP002984</td>\n",
              "      <td>Male</td>\n",
              "      <td>Yes</td>\n",
              "      <td>2</td>\n",
              "      <td>Graduate</td>\n",
              "      <td>No</td>\n",
              "      <td>7583</td>\n",
              "      <td>0.0</td>\n",
              "      <td>187.0</td>\n",
              "      <td>360.0</td>\n",
              "      <td>1.0</td>\n",
              "      <td>Urban</td>\n",
              "      <td>Y</td>\n",
              "    </tr>\n",
              "    <tr>\n",
              "      <th>613</th>\n",
              "      <td>LP002990</td>\n",
              "      <td>Female</td>\n",
              "      <td>No</td>\n",
              "      <td>0</td>\n",
              "      <td>Graduate</td>\n",
              "      <td>Yes</td>\n",
              "      <td>4583</td>\n",
              "      <td>0.0</td>\n",
              "      <td>133.0</td>\n",
              "      <td>360.0</td>\n",
              "      <td>0.0</td>\n",
              "      <td>Semiurban</td>\n",
              "      <td>N</td>\n",
              "    </tr>\n",
              "  </tbody>\n",
              "</table>\n",
              "<p>614 rows × 13 columns</p>\n",
              "</div>\n",
              "      <button class=\"colab-df-convert\" onclick=\"convertToInteractive('df-65e47b34-cabc-4496-9c82-e57cd2d43f05')\"\n",
              "              title=\"Convert this dataframe to an interactive table.\"\n",
              "              style=\"display:none;\">\n",
              "        \n",
              "  <svg xmlns=\"http://www.w3.org/2000/svg\" height=\"24px\"viewBox=\"0 0 24 24\"\n",
              "       width=\"24px\">\n",
              "    <path d=\"M0 0h24v24H0V0z\" fill=\"none\"/>\n",
              "    <path d=\"M18.56 5.44l.94 2.06.94-2.06 2.06-.94-2.06-.94-.94-2.06-.94 2.06-2.06.94zm-11 1L8.5 8.5l.94-2.06 2.06-.94-2.06-.94L8.5 2.5l-.94 2.06-2.06.94zm10 10l.94 2.06.94-2.06 2.06-.94-2.06-.94-.94-2.06-.94 2.06-2.06.94z\"/><path d=\"M17.41 7.96l-1.37-1.37c-.4-.4-.92-.59-1.43-.59-.52 0-1.04.2-1.43.59L10.3 9.45l-7.72 7.72c-.78.78-.78 2.05 0 2.83L4 21.41c.39.39.9.59 1.41.59.51 0 1.02-.2 1.41-.59l7.78-7.78 2.81-2.81c.8-.78.8-2.07 0-2.86zM5.41 20L4 18.59l7.72-7.72 1.47 1.35L5.41 20z\"/>\n",
              "  </svg>\n",
              "      </button>\n",
              "      \n",
              "  <style>\n",
              "    .colab-df-container {\n",
              "      display:flex;\n",
              "      flex-wrap:wrap;\n",
              "      gap: 12px;\n",
              "    }\n",
              "\n",
              "    .colab-df-convert {\n",
              "      background-color: #E8F0FE;\n",
              "      border: none;\n",
              "      border-radius: 50%;\n",
              "      cursor: pointer;\n",
              "      display: none;\n",
              "      fill: #1967D2;\n",
              "      height: 32px;\n",
              "      padding: 0 0 0 0;\n",
              "      width: 32px;\n",
              "    }\n",
              "\n",
              "    .colab-df-convert:hover {\n",
              "      background-color: #E2EBFA;\n",
              "      box-shadow: 0px 1px 2px rgba(60, 64, 67, 0.3), 0px 1px 3px 1px rgba(60, 64, 67, 0.15);\n",
              "      fill: #174EA6;\n",
              "    }\n",
              "\n",
              "    [theme=dark] .colab-df-convert {\n",
              "      background-color: #3B4455;\n",
              "      fill: #D2E3FC;\n",
              "    }\n",
              "\n",
              "    [theme=dark] .colab-df-convert:hover {\n",
              "      background-color: #434B5C;\n",
              "      box-shadow: 0px 1px 3px 1px rgba(0, 0, 0, 0.15);\n",
              "      filter: drop-shadow(0px 1px 2px rgba(0, 0, 0, 0.3));\n",
              "      fill: #FFFFFF;\n",
              "    }\n",
              "  </style>\n",
              "\n",
              "      <script>\n",
              "        const buttonEl =\n",
              "          document.querySelector('#df-65e47b34-cabc-4496-9c82-e57cd2d43f05 button.colab-df-convert');\n",
              "        buttonEl.style.display =\n",
              "          google.colab.kernel.accessAllowed ? 'block' : 'none';\n",
              "\n",
              "        async function convertToInteractive(key) {\n",
              "          const element = document.querySelector('#df-65e47b34-cabc-4496-9c82-e57cd2d43f05');\n",
              "          const dataTable =\n",
              "            await google.colab.kernel.invokeFunction('convertToInteractive',\n",
              "                                                     [key], {});\n",
              "          if (!dataTable) return;\n",
              "\n",
              "          const docLinkHtml = 'Like what you see? Visit the ' +\n",
              "            '<a target=\"_blank\" href=https://colab.research.google.com/notebooks/data_table.ipynb>data table notebook</a>'\n",
              "            + ' to learn more about interactive tables.';\n",
              "          element.innerHTML = '';\n",
              "          dataTable['output_type'] = 'display_data';\n",
              "          await google.colab.output.renderOutput(dataTable, element);\n",
              "          const docLink = document.createElement('div');\n",
              "          docLink.innerHTML = docLinkHtml;\n",
              "          element.appendChild(docLink);\n",
              "        }\n",
              "      </script>\n",
              "    </div>\n",
              "  </div>\n",
              "  "
            ]
          },
          "metadata": {},
          "execution_count": 4
        }
      ]
    },
    {
      "cell_type": "code",
      "source": [
        "df.shape"
      ],
      "metadata": {
        "colab": {
          "base_uri": "https://localhost:8080/"
        },
        "id": "r1MNHX-pzsej",
        "outputId": "dca0ac03-9ffa-4e72-c78a-b6db85ca82e1"
      },
      "execution_count": 5,
      "outputs": [
        {
          "output_type": "execute_result",
          "data": {
            "text/plain": [
              "(614, 13)"
            ]
          },
          "metadata": {},
          "execution_count": 5
        }
      ]
    },
    {
      "cell_type": "markdown",
      "source": [
        "# **Handle the Missing values**"
      ],
      "metadata": {
        "id": "SozBdEIezvKD"
      }
    },
    {
      "cell_type": "code",
      "source": [
        "#checking the null values\n",
        "df.isnull().sum()"
      ],
      "metadata": {
        "colab": {
          "base_uri": "https://localhost:8080/"
        },
        "id": "hNXzKwwHzxDh",
        "outputId": "0dd9e973-802b-4f30-9385-2cec806b8bfd"
      },
      "execution_count": 6,
      "outputs": [
        {
          "output_type": "execute_result",
          "data": {
            "text/plain": [
              "Loan_ID               0\n",
              "Gender               13\n",
              "Married               3\n",
              "Dependents           15\n",
              "Education             0\n",
              "Self_Employed        32\n",
              "ApplicantIncome       0\n",
              "CoapplicantIncome     0\n",
              "LoanAmount           22\n",
              "Loan_Amount_Term     14\n",
              "Credit_History       50\n",
              "Property_Area         0\n",
              "Loan_Status           0\n",
              "dtype: int64"
            ]
          },
          "metadata": {},
          "execution_count": 6
        }
      ]
    },
    {
      "cell_type": "markdown",
      "source": [
        "# **Treating the Null Value**\n",
        "\n",
        "We will fill the missing values in numeric data type using the mean value of that particular column and categorical data type using the most repeated value"
      ],
      "metadata": {
        "id": "DdYetZ6jz1YU"
      }
    },
    {
      "cell_type": "code",
      "source": [
        "numerical_features = df.select_dtypes(include = [np.number]).columns\n",
        "categorical_features = df.select_dtypes(include = [np.object]).columns"
      ],
      "metadata": {
        "id": "KF2G0-2sz8pW"
      },
      "execution_count": 7,
      "outputs": []
    },
    {
      "cell_type": "code",
      "source": [
        "numerical_features"
      ],
      "metadata": {
        "colab": {
          "base_uri": "https://localhost:8080/"
        },
        "id": "_zqQ-1S6z_xR",
        "outputId": "dbf9595b-3683-4d31-eca8-302aebd3f075"
      },
      "execution_count": 8,
      "outputs": [
        {
          "output_type": "execute_result",
          "data": {
            "text/plain": [
              "Index(['ApplicantIncome', 'CoapplicantIncome', 'LoanAmount',\n",
              "       'Loan_Amount_Term', 'Credit_History'],\n",
              "      dtype='object')"
            ]
          },
          "metadata": {},
          "execution_count": 8
        }
      ]
    },
    {
      "cell_type": "code",
      "source": [
        "categorical_features"
      ],
      "metadata": {
        "colab": {
          "base_uri": "https://localhost:8080/"
        },
        "id": "5qN6l0od0BB5",
        "outputId": "b3890c46-cb33-4512-bd4d-d1beca46766d"
      },
      "execution_count": 9,
      "outputs": [
        {
          "output_type": "execute_result",
          "data": {
            "text/plain": [
              "Index(['Loan_ID', 'Gender', 'Married', 'Dependents', 'Education',\n",
              "       'Self_Employed', 'Property_Area', 'Loan_Status'],\n",
              "      dtype='object')"
            ]
          },
          "metadata": {},
          "execution_count": 9
        }
      ]
    },
    {
      "cell_type": "code",
      "source": [
        "df['Gender'] = df['Gender'].fillna(df['Gender'].mode()[0])"
      ],
      "metadata": {
        "id": "9doHt9sq0C9H"
      },
      "execution_count": 11,
      "outputs": []
    },
    {
      "cell_type": "code",
      "source": [
        "df['Married'] = df['Married'].fillna(df['Married'].mode()[0])"
      ],
      "metadata": {
        "id": "jXz-cmOc0IiO"
      },
      "execution_count": 12,
      "outputs": []
    },
    {
      "cell_type": "code",
      "source": [
        "#replace + with non value \n",
        "df['Dependents'] = df['Dependents'].str.replace('+','')"
      ],
      "metadata": {
        "id": "2IkeLKf_0LT1"
      },
      "execution_count": 13,
      "outputs": []
    },
    {
      "cell_type": "code",
      "source": [
        "df['Dependents'] = df['Dependents'].fillna(df['Dependents'].mode()[0])"
      ],
      "metadata": {
        "id": "KF0JXhHU0NP1"
      },
      "execution_count": 14,
      "outputs": []
    },
    {
      "cell_type": "code",
      "source": [
        "df['Self_Employed'] = df['Self_Employed'].fillna(df['Self_Employed'].mode()[0])"
      ],
      "metadata": {
        "id": "fZfHnwZy0Ose"
      },
      "execution_count": 15,
      "outputs": []
    },
    {
      "cell_type": "code",
      "source": [
        "df['LoanAmount'] = df['LoanAmount'].fillna(df['LoanAmount'].mode()[0])"
      ],
      "metadata": {
        "id": "NgHKLDkt0QWU"
      },
      "execution_count": 16,
      "outputs": []
    },
    {
      "cell_type": "code",
      "source": [
        "df['Loan_Amount_Term'] = df['Loan_Amount_Term'].fillna(df['Loan_Amount_Term'].mode()[0])"
      ],
      "metadata": {
        "id": "Z7Obl1hi0Rwr"
      },
      "execution_count": 17,
      "outputs": []
    },
    {
      "cell_type": "code",
      "source": [
        "df['Credit_History'] = df['Credit_History'].fillna(df['Credit_History'].mode()[0])"
      ],
      "metadata": {
        "id": "1phuDY_w0TUc"
      },
      "execution_count": 18,
      "outputs": []
    },
    {
      "cell_type": "code",
      "source": [
        "#checking the null values now\n",
        "df.isnull().sum()"
      ],
      "metadata": {
        "colab": {
          "base_uri": "https://localhost:8080/"
        },
        "id": "bufNRaJb0VTT",
        "outputId": "d18f4434-e8a5-4435-c85c-35e1f5eebe0f"
      },
      "execution_count": 19,
      "outputs": [
        {
          "output_type": "execute_result",
          "data": {
            "text/plain": [
              "Loan_ID              0\n",
              "Gender               0\n",
              "Married              0\n",
              "Dependents           0\n",
              "Education            0\n",
              "Self_Employed        0\n",
              "ApplicantIncome      0\n",
              "CoapplicantIncome    0\n",
              "LoanAmount           0\n",
              "Loan_Amount_Term     0\n",
              "Credit_History       0\n",
              "Property_Area        0\n",
              "Loan_Status          0\n",
              "dtype: int64"
            ]
          },
          "metadata": {},
          "execution_count": 19
        }
      ]
    },
    {
      "cell_type": "markdown",
      "source": [
        "Now the null value is retreated"
      ],
      "metadata": {
        "id": "kQqpzDK70X7C"
      }
    },
    {
      "cell_type": "markdown",
      "source": [
        "# **Handling Categorical Values**"
      ],
      "metadata": {
        "id": "jeXnooCh0azw"
      }
    },
    {
      "cell_type": "code",
      "source": [
        "df.select_dtypes(include='object').columns"
      ],
      "metadata": {
        "colab": {
          "base_uri": "https://localhost:8080/"
        },
        "id": "rdVN9K240ZzA",
        "outputId": "b26266f6-bb78-4200-a902-942c33bf38d6"
      },
      "execution_count": 20,
      "outputs": [
        {
          "output_type": "execute_result",
          "data": {
            "text/plain": [
              "Index(['Loan_ID', 'Gender', 'Married', 'Dependents', 'Education',\n",
              "       'Self_Employed', 'Property_Area', 'Loan_Status'],\n",
              "      dtype='object')"
            ]
          },
          "metadata": {},
          "execution_count": 20
        }
      ]
    },
    {
      "cell_type": "code",
      "source": [
        "df['Gender'].unique()"
      ],
      "metadata": {
        "colab": {
          "base_uri": "https://localhost:8080/"
        },
        "id": "tZOVaPY30gVb",
        "outputId": "c2e91d96-76ef-4317-bf8b-5460869024ca"
      },
      "execution_count": 21,
      "outputs": [
        {
          "output_type": "execute_result",
          "data": {
            "text/plain": [
              "array(['Male', 'Female'], dtype=object)"
            ]
          },
          "metadata": {},
          "execution_count": 21
        }
      ]
    },
    {
      "cell_type": "code",
      "source": [
        "df['Gender'].replace({'Male':1,'Female':0},inplace=True)"
      ],
      "metadata": {
        "id": "c8tRTMsF0iRq"
      },
      "execution_count": 22,
      "outputs": []
    },
    {
      "cell_type": "code",
      "source": [
        "df['Married'].unique()"
      ],
      "metadata": {
        "colab": {
          "base_uri": "https://localhost:8080/"
        },
        "id": "hBA87xRg0kHL",
        "outputId": "29cf783e-232d-4530-cf72-98460759fe94"
      },
      "execution_count": 23,
      "outputs": [
        {
          "output_type": "execute_result",
          "data": {
            "text/plain": [
              "array(['No', 'Yes'], dtype=object)"
            ]
          },
          "metadata": {},
          "execution_count": 23
        }
      ]
    },
    {
      "cell_type": "code",
      "source": [
        "df['Married'].replace({'Yes':1,'No':0},inplace=True)"
      ],
      "metadata": {
        "id": "3atAk0Vs0l4R"
      },
      "execution_count": 24,
      "outputs": []
    },
    {
      "cell_type": "code",
      "source": [
        "df['Dependents'].unique()"
      ],
      "metadata": {
        "colab": {
          "base_uri": "https://localhost:8080/"
        },
        "id": "TZH9MA2t0npn",
        "outputId": "8c3ba21e-3620-44ec-fead-afb3233fecec"
      },
      "execution_count": 25,
      "outputs": [
        {
          "output_type": "execute_result",
          "data": {
            "text/plain": [
              "array(['0', '1', '2', '3'], dtype=object)"
            ]
          },
          "metadata": {},
          "execution_count": 25
        }
      ]
    },
    {
      "cell_type": "code",
      "source": [
        "df['Dependents'].replace({'0':0,'1':1,'2':2,'3':3},inplace=True)"
      ],
      "metadata": {
        "id": "ePT6v1CL0pSh"
      },
      "execution_count": 26,
      "outputs": []
    },
    {
      "cell_type": "code",
      "source": [
        "df['Self_Employed'].unique()"
      ],
      "metadata": {
        "colab": {
          "base_uri": "https://localhost:8080/"
        },
        "id": "D7cGyx8g0rOc",
        "outputId": "b3ab30a3-7de2-4e3b-c623-f9d5b83b6fc3"
      },
      "execution_count": 27,
      "outputs": [
        {
          "output_type": "execute_result",
          "data": {
            "text/plain": [
              "array(['No', 'Yes'], dtype=object)"
            ]
          },
          "metadata": {},
          "execution_count": 27
        }
      ]
    },
    {
      "cell_type": "code",
      "source": [
        "df['Self_Employed'].replace({'Yes':1,'No':0},inplace=True)"
      ],
      "metadata": {
        "id": "3WlDzqOD0srt"
      },
      "execution_count": 28,
      "outputs": []
    },
    {
      "cell_type": "code",
      "source": [
        "df['Property_Area'].unique()"
      ],
      "metadata": {
        "colab": {
          "base_uri": "https://localhost:8080/"
        },
        "id": "Mlxyan290vL1",
        "outputId": "0418e4ea-6697-49a4-e426-23e35428dc94"
      },
      "execution_count": 29,
      "outputs": [
        {
          "output_type": "execute_result",
          "data": {
            "text/plain": [
              "array(['Urban', 'Rural', 'Semiurban'], dtype=object)"
            ]
          },
          "metadata": {},
          "execution_count": 29
        }
      ]
    },
    {
      "cell_type": "code",
      "source": [
        "df['Property_Area'].replace({'Urban':2,'Rural':0,'Semiurban':1},inplace=True)\n"
      ],
      "metadata": {
        "id": "AfdQc0860w7f"
      },
      "execution_count": 30,
      "outputs": []
    },
    {
      "cell_type": "code",
      "source": [
        "df['Loan_Status'].unique()"
      ],
      "metadata": {
        "colab": {
          "base_uri": "https://localhost:8080/"
        },
        "id": "K_wyyBpb0xHf",
        "outputId": "29909151-d70c-46ff-8f26-4c842dbace26"
      },
      "execution_count": 31,
      "outputs": [
        {
          "output_type": "execute_result",
          "data": {
            "text/plain": [
              "array(['Y', 'N'], dtype=object)"
            ]
          },
          "metadata": {},
          "execution_count": 31
        }
      ]
    },
    {
      "cell_type": "code",
      "source": [
        "df['Loan_Status'].replace({'Y':1,'N':0},inplace=True)"
      ],
      "metadata": {
        "id": "1f0s2Fv701Jh"
      },
      "execution_count": 32,
      "outputs": []
    },
    {
      "cell_type": "code",
      "source": [
        "df['Education'].unique()"
      ],
      "metadata": {
        "colab": {
          "base_uri": "https://localhost:8080/"
        },
        "id": "F7UwDpW604qs",
        "outputId": "9c4cd208-d134-4291-fb25-b60f2b9c7e94"
      },
      "execution_count": 33,
      "outputs": [
        {
          "output_type": "execute_result",
          "data": {
            "text/plain": [
              "array(['Graduate', 'Not Graduate'], dtype=object)"
            ]
          },
          "metadata": {},
          "execution_count": 33
        }
      ]
    },
    {
      "cell_type": "code",
      "source": [
        "df['Education'].replace({'Graduate':1,'Not Graduate':0},inplace=True)"
      ],
      "metadata": {
        "id": "KLGxvbmF06SF"
      },
      "execution_count": 34,
      "outputs": []
    },
    {
      "cell_type": "code",
      "source": [
        "df['CoapplicantIncome']=df['CoapplicantIncome'].astype(\"int64\")\n",
        "df['LoanAmount']=df['LoanAmount'].astype(\"int64\")\n",
        "df['Loan_Amount_Term']=df['Loan_Amount_Term'].astype(\"int64\")\n",
        "df['Credit_History']=df['Credit_History'].astype(\"int64\")"
      ],
      "metadata": {
        "id": "lnA_EZn3088w"
      },
      "execution_count": 35,
      "outputs": []
    },
    {
      "cell_type": "code",
      "source": [
        "# dummy columns are created for the categories in Loan_ID\n",
        "from sklearn.preprocessing import LabelEncoder\n",
        "le = LabelEncoder()\n",
        "df['Loan_ID'] = le.fit_transform(df.Loan_ID)"
      ],
      "metadata": {
        "id": "UkS99B_E0-o1"
      },
      "execution_count": 36,
      "outputs": []
    },
    {
      "cell_type": "code",
      "source": [
        "df.head()"
      ],
      "metadata": {
        "colab": {
          "base_uri": "https://localhost:8080/",
          "height": 206
        },
        "id": "6rn5iO_B1AHB",
        "outputId": "4521e0ef-31c7-4c29-8364-3312e93e4e97"
      },
      "execution_count": 37,
      "outputs": [
        {
          "output_type": "execute_result",
          "data": {
            "text/plain": [
              "   Loan_ID  Gender  Married  Dependents  Education  Self_Employed  \\\n",
              "0        0       1        0           0          1              0   \n",
              "1        1       1        1           1          1              0   \n",
              "2        2       1        1           0          1              1   \n",
              "3        3       1        1           0          0              0   \n",
              "4        4       1        0           0          1              0   \n",
              "\n",
              "   ApplicantIncome  CoapplicantIncome  LoanAmount  Loan_Amount_Term  \\\n",
              "0             5849                  0         120               360   \n",
              "1             4583               1508         128               360   \n",
              "2             3000                  0          66               360   \n",
              "3             2583               2358         120               360   \n",
              "4             6000                  0         141               360   \n",
              "\n",
              "   Credit_History  Property_Area  Loan_Status  \n",
              "0               1              2            1  \n",
              "1               1              0            0  \n",
              "2               1              2            1  \n",
              "3               1              2            1  \n",
              "4               1              2            1  "
            ],
            "text/html": [
              "\n",
              "  <div id=\"df-ca322513-a1fa-4abb-8eea-2f4760715309\">\n",
              "    <div class=\"colab-df-container\">\n",
              "      <div>\n",
              "<style scoped>\n",
              "    .dataframe tbody tr th:only-of-type {\n",
              "        vertical-align: middle;\n",
              "    }\n",
              "\n",
              "    .dataframe tbody tr th {\n",
              "        vertical-align: top;\n",
              "    }\n",
              "\n",
              "    .dataframe thead th {\n",
              "        text-align: right;\n",
              "    }\n",
              "</style>\n",
              "<table border=\"1\" class=\"dataframe\">\n",
              "  <thead>\n",
              "    <tr style=\"text-align: right;\">\n",
              "      <th></th>\n",
              "      <th>Loan_ID</th>\n",
              "      <th>Gender</th>\n",
              "      <th>Married</th>\n",
              "      <th>Dependents</th>\n",
              "      <th>Education</th>\n",
              "      <th>Self_Employed</th>\n",
              "      <th>ApplicantIncome</th>\n",
              "      <th>CoapplicantIncome</th>\n",
              "      <th>LoanAmount</th>\n",
              "      <th>Loan_Amount_Term</th>\n",
              "      <th>Credit_History</th>\n",
              "      <th>Property_Area</th>\n",
              "      <th>Loan_Status</th>\n",
              "    </tr>\n",
              "  </thead>\n",
              "  <tbody>\n",
              "    <tr>\n",
              "      <th>0</th>\n",
              "      <td>0</td>\n",
              "      <td>1</td>\n",
              "      <td>0</td>\n",
              "      <td>0</td>\n",
              "      <td>1</td>\n",
              "      <td>0</td>\n",
              "      <td>5849</td>\n",
              "      <td>0</td>\n",
              "      <td>120</td>\n",
              "      <td>360</td>\n",
              "      <td>1</td>\n",
              "      <td>2</td>\n",
              "      <td>1</td>\n",
              "    </tr>\n",
              "    <tr>\n",
              "      <th>1</th>\n",
              "      <td>1</td>\n",
              "      <td>1</td>\n",
              "      <td>1</td>\n",
              "      <td>1</td>\n",
              "      <td>1</td>\n",
              "      <td>0</td>\n",
              "      <td>4583</td>\n",
              "      <td>1508</td>\n",
              "      <td>128</td>\n",
              "      <td>360</td>\n",
              "      <td>1</td>\n",
              "      <td>0</td>\n",
              "      <td>0</td>\n",
              "    </tr>\n",
              "    <tr>\n",
              "      <th>2</th>\n",
              "      <td>2</td>\n",
              "      <td>1</td>\n",
              "      <td>1</td>\n",
              "      <td>0</td>\n",
              "      <td>1</td>\n",
              "      <td>1</td>\n",
              "      <td>3000</td>\n",
              "      <td>0</td>\n",
              "      <td>66</td>\n",
              "      <td>360</td>\n",
              "      <td>1</td>\n",
              "      <td>2</td>\n",
              "      <td>1</td>\n",
              "    </tr>\n",
              "    <tr>\n",
              "      <th>3</th>\n",
              "      <td>3</td>\n",
              "      <td>1</td>\n",
              "      <td>1</td>\n",
              "      <td>0</td>\n",
              "      <td>0</td>\n",
              "      <td>0</td>\n",
              "      <td>2583</td>\n",
              "      <td>2358</td>\n",
              "      <td>120</td>\n",
              "      <td>360</td>\n",
              "      <td>1</td>\n",
              "      <td>2</td>\n",
              "      <td>1</td>\n",
              "    </tr>\n",
              "    <tr>\n",
              "      <th>4</th>\n",
              "      <td>4</td>\n",
              "      <td>1</td>\n",
              "      <td>0</td>\n",
              "      <td>0</td>\n",
              "      <td>1</td>\n",
              "      <td>0</td>\n",
              "      <td>6000</td>\n",
              "      <td>0</td>\n",
              "      <td>141</td>\n",
              "      <td>360</td>\n",
              "      <td>1</td>\n",
              "      <td>2</td>\n",
              "      <td>1</td>\n",
              "    </tr>\n",
              "  </tbody>\n",
              "</table>\n",
              "</div>\n",
              "      <button class=\"colab-df-convert\" onclick=\"convertToInteractive('df-ca322513-a1fa-4abb-8eea-2f4760715309')\"\n",
              "              title=\"Convert this dataframe to an interactive table.\"\n",
              "              style=\"display:none;\">\n",
              "        \n",
              "  <svg xmlns=\"http://www.w3.org/2000/svg\" height=\"24px\"viewBox=\"0 0 24 24\"\n",
              "       width=\"24px\">\n",
              "    <path d=\"M0 0h24v24H0V0z\" fill=\"none\"/>\n",
              "    <path d=\"M18.56 5.44l.94 2.06.94-2.06 2.06-.94-2.06-.94-.94-2.06-.94 2.06-2.06.94zm-11 1L8.5 8.5l.94-2.06 2.06-.94-2.06-.94L8.5 2.5l-.94 2.06-2.06.94zm10 10l.94 2.06.94-2.06 2.06-.94-2.06-.94-.94-2.06-.94 2.06-2.06.94z\"/><path d=\"M17.41 7.96l-1.37-1.37c-.4-.4-.92-.59-1.43-.59-.52 0-1.04.2-1.43.59L10.3 9.45l-7.72 7.72c-.78.78-.78 2.05 0 2.83L4 21.41c.39.39.9.59 1.41.59.51 0 1.02-.2 1.41-.59l7.78-7.78 2.81-2.81c.8-.78.8-2.07 0-2.86zM5.41 20L4 18.59l7.72-7.72 1.47 1.35L5.41 20z\"/>\n",
              "  </svg>\n",
              "      </button>\n",
              "      \n",
              "  <style>\n",
              "    .colab-df-container {\n",
              "      display:flex;\n",
              "      flex-wrap:wrap;\n",
              "      gap: 12px;\n",
              "    }\n",
              "\n",
              "    .colab-df-convert {\n",
              "      background-color: #E8F0FE;\n",
              "      border: none;\n",
              "      border-radius: 50%;\n",
              "      cursor: pointer;\n",
              "      display: none;\n",
              "      fill: #1967D2;\n",
              "      height: 32px;\n",
              "      padding: 0 0 0 0;\n",
              "      width: 32px;\n",
              "    }\n",
              "\n",
              "    .colab-df-convert:hover {\n",
              "      background-color: #E2EBFA;\n",
              "      box-shadow: 0px 1px 2px rgba(60, 64, 67, 0.3), 0px 1px 3px 1px rgba(60, 64, 67, 0.15);\n",
              "      fill: #174EA6;\n",
              "    }\n",
              "\n",
              "    [theme=dark] .colab-df-convert {\n",
              "      background-color: #3B4455;\n",
              "      fill: #D2E3FC;\n",
              "    }\n",
              "\n",
              "    [theme=dark] .colab-df-convert:hover {\n",
              "      background-color: #434B5C;\n",
              "      box-shadow: 0px 1px 3px 1px rgba(0, 0, 0, 0.15);\n",
              "      filter: drop-shadow(0px 1px 2px rgba(0, 0, 0, 0.3));\n",
              "      fill: #FFFFFF;\n",
              "    }\n",
              "  </style>\n",
              "\n",
              "      <script>\n",
              "        const buttonEl =\n",
              "          document.querySelector('#df-ca322513-a1fa-4abb-8eea-2f4760715309 button.colab-df-convert');\n",
              "        buttonEl.style.display =\n",
              "          google.colab.kernel.accessAllowed ? 'block' : 'none';\n",
              "\n",
              "        async function convertToInteractive(key) {\n",
              "          const element = document.querySelector('#df-ca322513-a1fa-4abb-8eea-2f4760715309');\n",
              "          const dataTable =\n",
              "            await google.colab.kernel.invokeFunction('convertToInteractive',\n",
              "                                                     [key], {});\n",
              "          if (!dataTable) return;\n",
              "\n",
              "          const docLinkHtml = 'Like what you see? Visit the ' +\n",
              "            '<a target=\"_blank\" href=https://colab.research.google.com/notebooks/data_table.ipynb>data table notebook</a>'\n",
              "            + ' to learn more about interactive tables.';\n",
              "          element.innerHTML = '';\n",
              "          dataTable['output_type'] = 'display_data';\n",
              "          await google.colab.output.renderOutput(dataTable, element);\n",
              "          const docLink = document.createElement('div');\n",
              "          docLink.innerHTML = docLinkHtml;\n",
              "          element.appendChild(docLink);\n",
              "        }\n",
              "      </script>\n",
              "    </div>\n",
              "  </div>\n",
              "  "
            ]
          },
          "metadata": {},
          "execution_count": 37
        }
      ]
    },
    {
      "cell_type": "markdown",
      "source": [
        "# **Balancing The Dataset**"
      ],
      "metadata": {
        "id": "Tlt7Ig271C55"
      }
    },
    {
      "cell_type": "code",
      "source": [
        "from imblearn.combine import SMOTETomek"
      ],
      "metadata": {
        "id": "pSiR1wr51FKk"
      },
      "execution_count": 38,
      "outputs": []
    },
    {
      "cell_type": "code",
      "source": [
        "smote = SMOTETomek(0.90)"
      ],
      "metadata": {
        "id": "HYNRSYM01IKx"
      },
      "execution_count": 39,
      "outputs": []
    },
    {
      "cell_type": "code",
      "source": [
        "#dividing the dataset into dependent and independent y and x respectively\n",
        "\n",
        "y = df['Loan_Status']\n",
        "x = df.drop(columns=['Loan_Status'],axis=1)"
      ],
      "metadata": {
        "id": "_d4RSO9s1J0e"
      },
      "execution_count": 40,
      "outputs": []
    },
    {
      "cell_type": "code",
      "source": [
        "#creating the new x and y for balance data\n",
        "x_bal,y_bal = smote.fit_resample(x,y)"
      ],
      "metadata": {
        "id": "arDSwQYN1K0Z"
      },
      "execution_count": 41,
      "outputs": []
    },
    {
      "cell_type": "code",
      "source": [
        "#printing the value before and after balancing \n",
        "print(y.value_counts())\n",
        "print(y_bal.value_counts())"
      ],
      "metadata": {
        "colab": {
          "base_uri": "https://localhost:8080/"
        },
        "id": "ShwM-nWO1N0t",
        "outputId": "360a3782-ebe6-4495-cfb7-1557225ed041"
      },
      "execution_count": 42,
      "outputs": [
        {
          "output_type": "stream",
          "name": "stdout",
          "text": [
            "1    422\n",
            "0    192\n",
            "Name: Loan_Status, dtype: int64\n",
            "1    359\n",
            "0    316\n",
            "Name: Loan_Status, dtype: int64\n"
          ]
        }
      ]
    },
    {
      "cell_type": "markdown",
      "source": [
        "# **Scaling The Data**"
      ],
      "metadata": {
        "id": "wG8TFamp1PgB"
      }
    },
    {
      "cell_type": "code",
      "source": [
        "from sklearn.preprocessing import StandardScaler"
      ],
      "metadata": {
        "id": "2kEyQuRj1R29"
      },
      "execution_count": 43,
      "outputs": []
    },
    {
      "cell_type": "code",
      "source": [
        "sc = StandardScaler()\n",
        "x_bal = sc.fit_transform(x_bal)"
      ],
      "metadata": {
        "id": "3mvOPxZy1WSx"
      },
      "execution_count": 44,
      "outputs": []
    },
    {
      "cell_type": "code",
      "source": [
        "x_bal = pd.DataFrame(x_bal)"
      ],
      "metadata": {
        "id": "9ClhXSGT1bT_"
      },
      "execution_count": 45,
      "outputs": []
    },
    {
      "cell_type": "code",
      "source": [
        "x_bal.head()"
      ],
      "metadata": {
        "colab": {
          "base_uri": "https://localhost:8080/",
          "height": 206
        },
        "id": "vsomEuLn1eLY",
        "outputId": "1bdd1a22-e724-40f8-ceb4-da5c44a904c5"
      },
      "execution_count": 46,
      "outputs": [
        {
          "output_type": "execute_result",
          "data": {
            "text/plain": [
              "         0         1         2         3         4         5         6   \\\n",
              "0 -1.688131  0.513853 -1.206045 -0.697741  0.623610 -0.334703  0.062593   \n",
              "1 -1.682345  0.513853  0.829156  0.358257  0.623610 -0.334703 -0.130149   \n",
              "2 -1.676559  0.513853  0.829156 -0.697741  0.623610  2.987720 -0.371153   \n",
              "3 -1.670773  0.513853  0.829156 -0.697741 -1.603567 -0.334703 -0.434639   \n",
              "4 -1.664988  0.513853 -1.206045 -0.697741  0.623610 -0.334703  0.085582   \n",
              "\n",
              "         7         8         9         10        11  \n",
              "0 -0.581898 -0.324472  0.275694  0.603023  1.358457  \n",
              "1 -0.051192 -0.226636  0.275694  0.603023 -1.217269  \n",
              "2 -0.581898 -0.984866  0.275694  0.603023  1.358457  \n",
              "3  0.247946 -0.324472  0.275694  0.603023  1.358457  \n",
              "4 -0.581898 -0.067652  0.275694  0.603023  1.358457  "
            ],
            "text/html": [
              "\n",
              "  <div id=\"df-4a2631a7-f757-492b-99a9-142a386da882\">\n",
              "    <div class=\"colab-df-container\">\n",
              "      <div>\n",
              "<style scoped>\n",
              "    .dataframe tbody tr th:only-of-type {\n",
              "        vertical-align: middle;\n",
              "    }\n",
              "\n",
              "    .dataframe tbody tr th {\n",
              "        vertical-align: top;\n",
              "    }\n",
              "\n",
              "    .dataframe thead th {\n",
              "        text-align: right;\n",
              "    }\n",
              "</style>\n",
              "<table border=\"1\" class=\"dataframe\">\n",
              "  <thead>\n",
              "    <tr style=\"text-align: right;\">\n",
              "      <th></th>\n",
              "      <th>0</th>\n",
              "      <th>1</th>\n",
              "      <th>2</th>\n",
              "      <th>3</th>\n",
              "      <th>4</th>\n",
              "      <th>5</th>\n",
              "      <th>6</th>\n",
              "      <th>7</th>\n",
              "      <th>8</th>\n",
              "      <th>9</th>\n",
              "      <th>10</th>\n",
              "      <th>11</th>\n",
              "    </tr>\n",
              "  </thead>\n",
              "  <tbody>\n",
              "    <tr>\n",
              "      <th>0</th>\n",
              "      <td>-1.688131</td>\n",
              "      <td>0.513853</td>\n",
              "      <td>-1.206045</td>\n",
              "      <td>-0.697741</td>\n",
              "      <td>0.623610</td>\n",
              "      <td>-0.334703</td>\n",
              "      <td>0.062593</td>\n",
              "      <td>-0.581898</td>\n",
              "      <td>-0.324472</td>\n",
              "      <td>0.275694</td>\n",
              "      <td>0.603023</td>\n",
              "      <td>1.358457</td>\n",
              "    </tr>\n",
              "    <tr>\n",
              "      <th>1</th>\n",
              "      <td>-1.682345</td>\n",
              "      <td>0.513853</td>\n",
              "      <td>0.829156</td>\n",
              "      <td>0.358257</td>\n",
              "      <td>0.623610</td>\n",
              "      <td>-0.334703</td>\n",
              "      <td>-0.130149</td>\n",
              "      <td>-0.051192</td>\n",
              "      <td>-0.226636</td>\n",
              "      <td>0.275694</td>\n",
              "      <td>0.603023</td>\n",
              "      <td>-1.217269</td>\n",
              "    </tr>\n",
              "    <tr>\n",
              "      <th>2</th>\n",
              "      <td>-1.676559</td>\n",
              "      <td>0.513853</td>\n",
              "      <td>0.829156</td>\n",
              "      <td>-0.697741</td>\n",
              "      <td>0.623610</td>\n",
              "      <td>2.987720</td>\n",
              "      <td>-0.371153</td>\n",
              "      <td>-0.581898</td>\n",
              "      <td>-0.984866</td>\n",
              "      <td>0.275694</td>\n",
              "      <td>0.603023</td>\n",
              "      <td>1.358457</td>\n",
              "    </tr>\n",
              "    <tr>\n",
              "      <th>3</th>\n",
              "      <td>-1.670773</td>\n",
              "      <td>0.513853</td>\n",
              "      <td>0.829156</td>\n",
              "      <td>-0.697741</td>\n",
              "      <td>-1.603567</td>\n",
              "      <td>-0.334703</td>\n",
              "      <td>-0.434639</td>\n",
              "      <td>0.247946</td>\n",
              "      <td>-0.324472</td>\n",
              "      <td>0.275694</td>\n",
              "      <td>0.603023</td>\n",
              "      <td>1.358457</td>\n",
              "    </tr>\n",
              "    <tr>\n",
              "      <th>4</th>\n",
              "      <td>-1.664988</td>\n",
              "      <td>0.513853</td>\n",
              "      <td>-1.206045</td>\n",
              "      <td>-0.697741</td>\n",
              "      <td>0.623610</td>\n",
              "      <td>-0.334703</td>\n",
              "      <td>0.085582</td>\n",
              "      <td>-0.581898</td>\n",
              "      <td>-0.067652</td>\n",
              "      <td>0.275694</td>\n",
              "      <td>0.603023</td>\n",
              "      <td>1.358457</td>\n",
              "    </tr>\n",
              "  </tbody>\n",
              "</table>\n",
              "</div>\n",
              "      <button class=\"colab-df-convert\" onclick=\"convertToInteractive('df-4a2631a7-f757-492b-99a9-142a386da882')\"\n",
              "              title=\"Convert this dataframe to an interactive table.\"\n",
              "              style=\"display:none;\">\n",
              "        \n",
              "  <svg xmlns=\"http://www.w3.org/2000/svg\" height=\"24px\"viewBox=\"0 0 24 24\"\n",
              "       width=\"24px\">\n",
              "    <path d=\"M0 0h24v24H0V0z\" fill=\"none\"/>\n",
              "    <path d=\"M18.56 5.44l.94 2.06.94-2.06 2.06-.94-2.06-.94-.94-2.06-.94 2.06-2.06.94zm-11 1L8.5 8.5l.94-2.06 2.06-.94-2.06-.94L8.5 2.5l-.94 2.06-2.06.94zm10 10l.94 2.06.94-2.06 2.06-.94-2.06-.94-.94-2.06-.94 2.06-2.06.94z\"/><path d=\"M17.41 7.96l-1.37-1.37c-.4-.4-.92-.59-1.43-.59-.52 0-1.04.2-1.43.59L10.3 9.45l-7.72 7.72c-.78.78-.78 2.05 0 2.83L4 21.41c.39.39.9.59 1.41.59.51 0 1.02-.2 1.41-.59l7.78-7.78 2.81-2.81c.8-.78.8-2.07 0-2.86zM5.41 20L4 18.59l7.72-7.72 1.47 1.35L5.41 20z\"/>\n",
              "  </svg>\n",
              "      </button>\n",
              "      \n",
              "  <style>\n",
              "    .colab-df-container {\n",
              "      display:flex;\n",
              "      flex-wrap:wrap;\n",
              "      gap: 12px;\n",
              "    }\n",
              "\n",
              "    .colab-df-convert {\n",
              "      background-color: #E8F0FE;\n",
              "      border: none;\n",
              "      border-radius: 50%;\n",
              "      cursor: pointer;\n",
              "      display: none;\n",
              "      fill: #1967D2;\n",
              "      height: 32px;\n",
              "      padding: 0 0 0 0;\n",
              "      width: 32px;\n",
              "    }\n",
              "\n",
              "    .colab-df-convert:hover {\n",
              "      background-color: #E2EBFA;\n",
              "      box-shadow: 0px 1px 2px rgba(60, 64, 67, 0.3), 0px 1px 3px 1px rgba(60, 64, 67, 0.15);\n",
              "      fill: #174EA6;\n",
              "    }\n",
              "\n",
              "    [theme=dark] .colab-df-convert {\n",
              "      background-color: #3B4455;\n",
              "      fill: #D2E3FC;\n",
              "    }\n",
              "\n",
              "    [theme=dark] .colab-df-convert:hover {\n",
              "      background-color: #434B5C;\n",
              "      box-shadow: 0px 1px 3px 1px rgba(0, 0, 0, 0.15);\n",
              "      filter: drop-shadow(0px 1px 2px rgba(0, 0, 0, 0.3));\n",
              "      fill: #FFFFFF;\n",
              "    }\n",
              "  </style>\n",
              "\n",
              "      <script>\n",
              "        const buttonEl =\n",
              "          document.querySelector('#df-4a2631a7-f757-492b-99a9-142a386da882 button.colab-df-convert');\n",
              "        buttonEl.style.display =\n",
              "          google.colab.kernel.accessAllowed ? 'block' : 'none';\n",
              "\n",
              "        async function convertToInteractive(key) {\n",
              "          const element = document.querySelector('#df-4a2631a7-f757-492b-99a9-142a386da882');\n",
              "          const dataTable =\n",
              "            await google.colab.kernel.invokeFunction('convertToInteractive',\n",
              "                                                     [key], {});\n",
              "          if (!dataTable) return;\n",
              "\n",
              "          const docLinkHtml = 'Like what you see? Visit the ' +\n",
              "            '<a target=\"_blank\" href=https://colab.research.google.com/notebooks/data_table.ipynb>data table notebook</a>'\n",
              "            + ' to learn more about interactive tables.';\n",
              "          element.innerHTML = '';\n",
              "          dataTable['output_type'] = 'display_data';\n",
              "          await google.colab.output.renderOutput(dataTable, element);\n",
              "          const docLink = document.createElement('div');\n",
              "          docLink.innerHTML = docLinkHtml;\n",
              "          element.appendChild(docLink);\n",
              "        }\n",
              "      </script>\n",
              "    </div>\n",
              "  </div>\n",
              "  "
            ]
          },
          "metadata": {},
          "execution_count": 46
        }
      ]
    },
    {
      "cell_type": "markdown",
      "source": [
        "We will perform scaling only on the input values"
      ],
      "metadata": {
        "id": "CN60RL7a1hS6"
      }
    },
    {
      "cell_type": "markdown",
      "source": [
        "# **Splitting Data Into Train And Test**"
      ],
      "metadata": {
        "id": "-ZpxJ3lh1i1g"
      }
    },
    {
      "cell_type": "code",
      "source": [
        "# splitting the data into training and testing set\n",
        "\n",
        "from sklearn.model_selection import train_test_split"
      ],
      "metadata": {
        "id": "YencgT_T1lcd"
      },
      "execution_count": 47,
      "outputs": []
    },
    {
      "cell_type": "code",
      "source": [
        "x_train, x_test, y_train, y_test = train_test_split(x_bal, y_bal, test_size = 0.33, random_state = 42)"
      ],
      "metadata": {
        "id": "_3SnNS751pAl"
      },
      "execution_count": 48,
      "outputs": []
    },
    {
      "cell_type": "code",
      "source": [
        "print(x_train.shape)\n",
        "print(y_train.shape)\n",
        "print(x_test.shape)\n",
        "print(y_test.shape)"
      ],
      "metadata": {
        "colab": {
          "base_uri": "https://localhost:8080/"
        },
        "id": "X9aPqE1t1rwX",
        "outputId": "2e10a2d1-f5cd-4d00-c85e-34c05879f3e2"
      },
      "execution_count": 49,
      "outputs": [
        {
          "output_type": "stream",
          "name": "stdout",
          "text": [
            "(452, 12)\n",
            "(452,)\n",
            "(223, 12)\n",
            "(223,)\n"
          ]
        }
      ]
    },
    {
      "cell_type": "code",
      "source": [
        "x_train"
      ],
      "metadata": {
        "colab": {
          "base_uri": "https://localhost:8080/",
          "height": 424
        },
        "id": "Y0d13MDj1trC",
        "outputId": "c0a53940-9891-4aa9-fdcc-ff56546cda69"
      },
      "execution_count": 50,
      "outputs": [
        {
          "output_type": "execute_result",
          "data": {
            "text/plain": [
              "           0         1         2         3         4         5         6   \\\n",
              "221 -0.183848  0.513853  0.829156  0.358257  0.623610 -0.334703  0.098218   \n",
              "516 -0.768204  0.513853  0.829156  0.358257 -1.603567 -0.334703 -0.483814   \n",
              "660 -0.143348  0.513853 -1.206045 -0.697741  0.623610  2.987720  0.765964   \n",
              "527  0.336865  0.513853  0.829156 -0.697741  0.623610 -0.334703 -0.266561   \n",
              "84  -1.150060  0.513853 -1.206045 -0.697741  0.623610 -0.334703 -0.198659   \n",
              "..        ...       ...       ...       ...       ...       ...       ...   \n",
              "71  -1.236846  0.513853  0.829156  2.470253  0.623610 -0.334703 -0.345728   \n",
              "106 -1.005418  0.513853  0.829156 -0.697741  0.623610 -0.334703  0.019812   \n",
              "270  0.151723 -1.946082 -1.206045  0.358257  0.623610 -0.334703 -0.288788   \n",
              "435  1.303077  0.513853  0.829156 -0.697741 -1.603567 -0.334703 -0.359887   \n",
              "102 -1.034346 -1.946082 -1.206045  0.358257  0.623610  2.987720  0.306489   \n",
              "\n",
              "           7         8         9         10        11  \n",
              "221  0.913792  2.243727  0.275694  0.603023  1.358457  \n",
              "516 -0.581898 -0.532374  0.084845 -1.658312 -1.217269  \n",
              "660  0.162780  0.311463 -1.298807 -1.658312  1.358457  \n",
              "527  0.812085  0.287004 -1.282903 -1.658312 -1.217269  \n",
              "84  -0.581898 -0.300013  0.275694  0.603023  0.070594  \n",
              "..        ...       ...       ...       ...       ...  \n",
              "71   0.825810  0.409299 -0.678549 -1.658312  0.070594  \n",
              "106  0.171930  0.348152  0.275694  0.603023 -1.217269  \n",
              "270 -0.581898 -0.422308  0.275694  0.603023  0.070594  \n",
              "435  0.051571 -0.287783  0.275694 -1.658312  0.070594  \n",
              "102 -0.581898 -0.324472  0.275694  0.603023  0.070594  \n",
              "\n",
              "[452 rows x 12 columns]"
            ],
            "text/html": [
              "\n",
              "  <div id=\"df-6103edd8-2b24-4caa-bab4-b1a65b0652ae\">\n",
              "    <div class=\"colab-df-container\">\n",
              "      <div>\n",
              "<style scoped>\n",
              "    .dataframe tbody tr th:only-of-type {\n",
              "        vertical-align: middle;\n",
              "    }\n",
              "\n",
              "    .dataframe tbody tr th {\n",
              "        vertical-align: top;\n",
              "    }\n",
              "\n",
              "    .dataframe thead th {\n",
              "        text-align: right;\n",
              "    }\n",
              "</style>\n",
              "<table border=\"1\" class=\"dataframe\">\n",
              "  <thead>\n",
              "    <tr style=\"text-align: right;\">\n",
              "      <th></th>\n",
              "      <th>0</th>\n",
              "      <th>1</th>\n",
              "      <th>2</th>\n",
              "      <th>3</th>\n",
              "      <th>4</th>\n",
              "      <th>5</th>\n",
              "      <th>6</th>\n",
              "      <th>7</th>\n",
              "      <th>8</th>\n",
              "      <th>9</th>\n",
              "      <th>10</th>\n",
              "      <th>11</th>\n",
              "    </tr>\n",
              "  </thead>\n",
              "  <tbody>\n",
              "    <tr>\n",
              "      <th>221</th>\n",
              "      <td>-0.183848</td>\n",
              "      <td>0.513853</td>\n",
              "      <td>0.829156</td>\n",
              "      <td>0.358257</td>\n",
              "      <td>0.623610</td>\n",
              "      <td>-0.334703</td>\n",
              "      <td>0.098218</td>\n",
              "      <td>0.913792</td>\n",
              "      <td>2.243727</td>\n",
              "      <td>0.275694</td>\n",
              "      <td>0.603023</td>\n",
              "      <td>1.358457</td>\n",
              "    </tr>\n",
              "    <tr>\n",
              "      <th>516</th>\n",
              "      <td>-0.768204</td>\n",
              "      <td>0.513853</td>\n",
              "      <td>0.829156</td>\n",
              "      <td>0.358257</td>\n",
              "      <td>-1.603567</td>\n",
              "      <td>-0.334703</td>\n",
              "      <td>-0.483814</td>\n",
              "      <td>-0.581898</td>\n",
              "      <td>-0.532374</td>\n",
              "      <td>0.084845</td>\n",
              "      <td>-1.658312</td>\n",
              "      <td>-1.217269</td>\n",
              "    </tr>\n",
              "    <tr>\n",
              "      <th>660</th>\n",
              "      <td>-0.143348</td>\n",
              "      <td>0.513853</td>\n",
              "      <td>-1.206045</td>\n",
              "      <td>-0.697741</td>\n",
              "      <td>0.623610</td>\n",
              "      <td>2.987720</td>\n",
              "      <td>0.765964</td>\n",
              "      <td>0.162780</td>\n",
              "      <td>0.311463</td>\n",
              "      <td>-1.298807</td>\n",
              "      <td>-1.658312</td>\n",
              "      <td>1.358457</td>\n",
              "    </tr>\n",
              "    <tr>\n",
              "      <th>527</th>\n",
              "      <td>0.336865</td>\n",
              "      <td>0.513853</td>\n",
              "      <td>0.829156</td>\n",
              "      <td>-0.697741</td>\n",
              "      <td>0.623610</td>\n",
              "      <td>-0.334703</td>\n",
              "      <td>-0.266561</td>\n",
              "      <td>0.812085</td>\n",
              "      <td>0.287004</td>\n",
              "      <td>-1.282903</td>\n",
              "      <td>-1.658312</td>\n",
              "      <td>-1.217269</td>\n",
              "    </tr>\n",
              "    <tr>\n",
              "      <th>84</th>\n",
              "      <td>-1.150060</td>\n",
              "      <td>0.513853</td>\n",
              "      <td>-1.206045</td>\n",
              "      <td>-0.697741</td>\n",
              "      <td>0.623610</td>\n",
              "      <td>-0.334703</td>\n",
              "      <td>-0.198659</td>\n",
              "      <td>-0.581898</td>\n",
              "      <td>-0.300013</td>\n",
              "      <td>0.275694</td>\n",
              "      <td>0.603023</td>\n",
              "      <td>0.070594</td>\n",
              "    </tr>\n",
              "    <tr>\n",
              "      <th>...</th>\n",
              "      <td>...</td>\n",
              "      <td>...</td>\n",
              "      <td>...</td>\n",
              "      <td>...</td>\n",
              "      <td>...</td>\n",
              "      <td>...</td>\n",
              "      <td>...</td>\n",
              "      <td>...</td>\n",
              "      <td>...</td>\n",
              "      <td>...</td>\n",
              "      <td>...</td>\n",
              "      <td>...</td>\n",
              "    </tr>\n",
              "    <tr>\n",
              "      <th>71</th>\n",
              "      <td>-1.236846</td>\n",
              "      <td>0.513853</td>\n",
              "      <td>0.829156</td>\n",
              "      <td>2.470253</td>\n",
              "      <td>0.623610</td>\n",
              "      <td>-0.334703</td>\n",
              "      <td>-0.345728</td>\n",
              "      <td>0.825810</td>\n",
              "      <td>0.409299</td>\n",
              "      <td>-0.678549</td>\n",
              "      <td>-1.658312</td>\n",
              "      <td>0.070594</td>\n",
              "    </tr>\n",
              "    <tr>\n",
              "      <th>106</th>\n",
              "      <td>-1.005418</td>\n",
              "      <td>0.513853</td>\n",
              "      <td>0.829156</td>\n",
              "      <td>-0.697741</td>\n",
              "      <td>0.623610</td>\n",
              "      <td>-0.334703</td>\n",
              "      <td>0.019812</td>\n",
              "      <td>0.171930</td>\n",
              "      <td>0.348152</td>\n",
              "      <td>0.275694</td>\n",
              "      <td>0.603023</td>\n",
              "      <td>-1.217269</td>\n",
              "    </tr>\n",
              "    <tr>\n",
              "      <th>270</th>\n",
              "      <td>0.151723</td>\n",
              "      <td>-1.946082</td>\n",
              "      <td>-1.206045</td>\n",
              "      <td>0.358257</td>\n",
              "      <td>0.623610</td>\n",
              "      <td>-0.334703</td>\n",
              "      <td>-0.288788</td>\n",
              "      <td>-0.581898</td>\n",
              "      <td>-0.422308</td>\n",
              "      <td>0.275694</td>\n",
              "      <td>0.603023</td>\n",
              "      <td>0.070594</td>\n",
              "    </tr>\n",
              "    <tr>\n",
              "      <th>435</th>\n",
              "      <td>1.303077</td>\n",
              "      <td>0.513853</td>\n",
              "      <td>0.829156</td>\n",
              "      <td>-0.697741</td>\n",
              "      <td>-1.603567</td>\n",
              "      <td>-0.334703</td>\n",
              "      <td>-0.359887</td>\n",
              "      <td>0.051571</td>\n",
              "      <td>-0.287783</td>\n",
              "      <td>0.275694</td>\n",
              "      <td>-1.658312</td>\n",
              "      <td>0.070594</td>\n",
              "    </tr>\n",
              "    <tr>\n",
              "      <th>102</th>\n",
              "      <td>-1.034346</td>\n",
              "      <td>-1.946082</td>\n",
              "      <td>-1.206045</td>\n",
              "      <td>0.358257</td>\n",
              "      <td>0.623610</td>\n",
              "      <td>2.987720</td>\n",
              "      <td>0.306489</td>\n",
              "      <td>-0.581898</td>\n",
              "      <td>-0.324472</td>\n",
              "      <td>0.275694</td>\n",
              "      <td>0.603023</td>\n",
              "      <td>0.070594</td>\n",
              "    </tr>\n",
              "  </tbody>\n",
              "</table>\n",
              "<p>452 rows × 12 columns</p>\n",
              "</div>\n",
              "      <button class=\"colab-df-convert\" onclick=\"convertToInteractive('df-6103edd8-2b24-4caa-bab4-b1a65b0652ae')\"\n",
              "              title=\"Convert this dataframe to an interactive table.\"\n",
              "              style=\"display:none;\">\n",
              "        \n",
              "  <svg xmlns=\"http://www.w3.org/2000/svg\" height=\"24px\"viewBox=\"0 0 24 24\"\n",
              "       width=\"24px\">\n",
              "    <path d=\"M0 0h24v24H0V0z\" fill=\"none\"/>\n",
              "    <path d=\"M18.56 5.44l.94 2.06.94-2.06 2.06-.94-2.06-.94-.94-2.06-.94 2.06-2.06.94zm-11 1L8.5 8.5l.94-2.06 2.06-.94-2.06-.94L8.5 2.5l-.94 2.06-2.06.94zm10 10l.94 2.06.94-2.06 2.06-.94-2.06-.94-.94-2.06-.94 2.06-2.06.94z\"/><path d=\"M17.41 7.96l-1.37-1.37c-.4-.4-.92-.59-1.43-.59-.52 0-1.04.2-1.43.59L10.3 9.45l-7.72 7.72c-.78.78-.78 2.05 0 2.83L4 21.41c.39.39.9.59 1.41.59.51 0 1.02-.2 1.41-.59l7.78-7.78 2.81-2.81c.8-.78.8-2.07 0-2.86zM5.41 20L4 18.59l7.72-7.72 1.47 1.35L5.41 20z\"/>\n",
              "  </svg>\n",
              "      </button>\n",
              "      \n",
              "  <style>\n",
              "    .colab-df-container {\n",
              "      display:flex;\n",
              "      flex-wrap:wrap;\n",
              "      gap: 12px;\n",
              "    }\n",
              "\n",
              "    .colab-df-convert {\n",
              "      background-color: #E8F0FE;\n",
              "      border: none;\n",
              "      border-radius: 50%;\n",
              "      cursor: pointer;\n",
              "      display: none;\n",
              "      fill: #1967D2;\n",
              "      height: 32px;\n",
              "      padding: 0 0 0 0;\n",
              "      width: 32px;\n",
              "    }\n",
              "\n",
              "    .colab-df-convert:hover {\n",
              "      background-color: #E2EBFA;\n",
              "      box-shadow: 0px 1px 2px rgba(60, 64, 67, 0.3), 0px 1px 3px 1px rgba(60, 64, 67, 0.15);\n",
              "      fill: #174EA6;\n",
              "    }\n",
              "\n",
              "    [theme=dark] .colab-df-convert {\n",
              "      background-color: #3B4455;\n",
              "      fill: #D2E3FC;\n",
              "    }\n",
              "\n",
              "    [theme=dark] .colab-df-convert:hover {\n",
              "      background-color: #434B5C;\n",
              "      box-shadow: 0px 1px 3px 1px rgba(0, 0, 0, 0.15);\n",
              "      filter: drop-shadow(0px 1px 2px rgba(0, 0, 0, 0.3));\n",
              "      fill: #FFFFFF;\n",
              "    }\n",
              "  </style>\n",
              "\n",
              "      <script>\n",
              "        const buttonEl =\n",
              "          document.querySelector('#df-6103edd8-2b24-4caa-bab4-b1a65b0652ae button.colab-df-convert');\n",
              "        buttonEl.style.display =\n",
              "          google.colab.kernel.accessAllowed ? 'block' : 'none';\n",
              "\n",
              "        async function convertToInteractive(key) {\n",
              "          const element = document.querySelector('#df-6103edd8-2b24-4caa-bab4-b1a65b0652ae');\n",
              "          const dataTable =\n",
              "            await google.colab.kernel.invokeFunction('convertToInteractive',\n",
              "                                                     [key], {});\n",
              "          if (!dataTable) return;\n",
              "\n",
              "          const docLinkHtml = 'Like what you see? Visit the ' +\n",
              "            '<a target=\"_blank\" href=https://colab.research.google.com/notebooks/data_table.ipynb>data table notebook</a>'\n",
              "            + ' to learn more about interactive tables.';\n",
              "          element.innerHTML = '';\n",
              "          dataTable['output_type'] = 'display_data';\n",
              "          await google.colab.output.renderOutput(dataTable, element);\n",
              "          const docLink = document.createElement('div');\n",
              "          docLink.innerHTML = docLinkHtml;\n",
              "          element.appendChild(docLink);\n",
              "        }\n",
              "      </script>\n",
              "    </div>\n",
              "  </div>\n",
              "  "
            ]
          },
          "metadata": {},
          "execution_count": 50
        }
      ]
    },
    {
      "cell_type": "code",
      "source": [
        "x_test"
      ],
      "metadata": {
        "colab": {
          "base_uri": "https://localhost:8080/",
          "height": 424
        },
        "id": "7LF1vu-b1xKW",
        "outputId": "736fe9f5-f2ac-409e-80d3-2e8c6eb584fa"
      },
      "execution_count": 51,
      "outputs": [
        {
          "output_type": "execute_result",
          "data": {
            "text/plain": [
              "           0         1         2         3         4         5         6   \\\n",
              "396  1.036935  0.513853  0.829156  0.358257 -1.603567 -0.334703 -0.423982   \n",
              "302  0.388936  0.513853  0.829156  2.470253  0.623610 -0.334703 -0.041238   \n",
              "673 -0.837632  0.513853 -1.206045 -0.697741  0.623610 -0.334703  1.471618   \n",
              "541 -0.299562  0.513853 -1.206045 -0.697741 -1.603567 -0.334703 -0.497973   \n",
              "377  0.915435  0.513853  0.829156  1.414255 -1.603567 -0.334703 -0.476354   \n",
              "..        ...       ...       ...       ...       ...       ...       ...   \n",
              "482  1.690719  0.513853  0.829156  0.358257  0.623610 -0.334703 -0.403581   \n",
              "380  0.932792  0.513853  0.829156 -0.697741  0.623610 -0.334703 -0.449863   \n",
              "9   -1.636059  0.513853  0.829156  0.358257  0.623610 -0.334703  1.127088   \n",
              "22  -1.543488  0.513853  0.829156 -0.697741  0.623610  2.987720  0.627573   \n",
              "290  0.302151  0.513853  0.829156  1.414255  0.623610 -0.334703 -0.434639   \n",
              "\n",
              "           7         8         9         10        11  \n",
              "396 -0.054008 -0.410078 -2.587035 -1.658312 -1.217269  \n",
              "302  0.532655  0.653890  0.275694  0.603023  0.070594  \n",
              "673 -0.581898  1.106382  0.275694 -1.658312  0.070594  \n",
              "541 -0.581898 -0.887030  0.275694 -1.658312  1.358457  \n",
              "377 -0.140230 -0.263324  0.275694 -1.658312 -1.217269  \n",
              "..        ...       ...       ...       ...       ...  \n",
              "482  0.092746 -0.006504  0.275694 -1.658312 -1.217269  \n",
              "380  0.285954 -0.691357 -2.587035 -1.658312 -1.217269  \n",
              "9    3.278038  2.476088  0.275694  0.603023  0.070594  \n",
              "22  -0.581898  0.543824  0.275694  0.603023  0.070594  \n",
              "290  0.238092 -0.263324  0.275694  0.603023 -1.217269  \n",
              "\n",
              "[223 rows x 12 columns]"
            ],
            "text/html": [
              "\n",
              "  <div id=\"df-b0851a59-7020-440d-9134-1625de96a9bc\">\n",
              "    <div class=\"colab-df-container\">\n",
              "      <div>\n",
              "<style scoped>\n",
              "    .dataframe tbody tr th:only-of-type {\n",
              "        vertical-align: middle;\n",
              "    }\n",
              "\n",
              "    .dataframe tbody tr th {\n",
              "        vertical-align: top;\n",
              "    }\n",
              "\n",
              "    .dataframe thead th {\n",
              "        text-align: right;\n",
              "    }\n",
              "</style>\n",
              "<table border=\"1\" class=\"dataframe\">\n",
              "  <thead>\n",
              "    <tr style=\"text-align: right;\">\n",
              "      <th></th>\n",
              "      <th>0</th>\n",
              "      <th>1</th>\n",
              "      <th>2</th>\n",
              "      <th>3</th>\n",
              "      <th>4</th>\n",
              "      <th>5</th>\n",
              "      <th>6</th>\n",
              "      <th>7</th>\n",
              "      <th>8</th>\n",
              "      <th>9</th>\n",
              "      <th>10</th>\n",
              "      <th>11</th>\n",
              "    </tr>\n",
              "  </thead>\n",
              "  <tbody>\n",
              "    <tr>\n",
              "      <th>396</th>\n",
              "      <td>1.036935</td>\n",
              "      <td>0.513853</td>\n",
              "      <td>0.829156</td>\n",
              "      <td>0.358257</td>\n",
              "      <td>-1.603567</td>\n",
              "      <td>-0.334703</td>\n",
              "      <td>-0.423982</td>\n",
              "      <td>-0.054008</td>\n",
              "      <td>-0.410078</td>\n",
              "      <td>-2.587035</td>\n",
              "      <td>-1.658312</td>\n",
              "      <td>-1.217269</td>\n",
              "    </tr>\n",
              "    <tr>\n",
              "      <th>302</th>\n",
              "      <td>0.388936</td>\n",
              "      <td>0.513853</td>\n",
              "      <td>0.829156</td>\n",
              "      <td>2.470253</td>\n",
              "      <td>0.623610</td>\n",
              "      <td>-0.334703</td>\n",
              "      <td>-0.041238</td>\n",
              "      <td>0.532655</td>\n",
              "      <td>0.653890</td>\n",
              "      <td>0.275694</td>\n",
              "      <td>0.603023</td>\n",
              "      <td>0.070594</td>\n",
              "    </tr>\n",
              "    <tr>\n",
              "      <th>673</th>\n",
              "      <td>-0.837632</td>\n",
              "      <td>0.513853</td>\n",
              "      <td>-1.206045</td>\n",
              "      <td>-0.697741</td>\n",
              "      <td>0.623610</td>\n",
              "      <td>-0.334703</td>\n",
              "      <td>1.471618</td>\n",
              "      <td>-0.581898</td>\n",
              "      <td>1.106382</td>\n",
              "      <td>0.275694</td>\n",
              "      <td>-1.658312</td>\n",
              "      <td>0.070594</td>\n",
              "    </tr>\n",
              "    <tr>\n",
              "      <th>541</th>\n",
              "      <td>-0.299562</td>\n",
              "      <td>0.513853</td>\n",
              "      <td>-1.206045</td>\n",
              "      <td>-0.697741</td>\n",
              "      <td>-1.603567</td>\n",
              "      <td>-0.334703</td>\n",
              "      <td>-0.497973</td>\n",
              "      <td>-0.581898</td>\n",
              "      <td>-0.887030</td>\n",
              "      <td>0.275694</td>\n",
              "      <td>-1.658312</td>\n",
              "      <td>1.358457</td>\n",
              "    </tr>\n",
              "    <tr>\n",
              "      <th>377</th>\n",
              "      <td>0.915435</td>\n",
              "      <td>0.513853</td>\n",
              "      <td>0.829156</td>\n",
              "      <td>1.414255</td>\n",
              "      <td>-1.603567</td>\n",
              "      <td>-0.334703</td>\n",
              "      <td>-0.476354</td>\n",
              "      <td>-0.140230</td>\n",
              "      <td>-0.263324</td>\n",
              "      <td>0.275694</td>\n",
              "      <td>-1.658312</td>\n",
              "      <td>-1.217269</td>\n",
              "    </tr>\n",
              "    <tr>\n",
              "      <th>...</th>\n",
              "      <td>...</td>\n",
              "      <td>...</td>\n",
              "      <td>...</td>\n",
              "      <td>...</td>\n",
              "      <td>...</td>\n",
              "      <td>...</td>\n",
              "      <td>...</td>\n",
              "      <td>...</td>\n",
              "      <td>...</td>\n",
              "      <td>...</td>\n",
              "      <td>...</td>\n",
              "      <td>...</td>\n",
              "    </tr>\n",
              "    <tr>\n",
              "      <th>482</th>\n",
              "      <td>1.690719</td>\n",
              "      <td>0.513853</td>\n",
              "      <td>0.829156</td>\n",
              "      <td>0.358257</td>\n",
              "      <td>0.623610</td>\n",
              "      <td>-0.334703</td>\n",
              "      <td>-0.403581</td>\n",
              "      <td>0.092746</td>\n",
              "      <td>-0.006504</td>\n",
              "      <td>0.275694</td>\n",
              "      <td>-1.658312</td>\n",
              "      <td>-1.217269</td>\n",
              "    </tr>\n",
              "    <tr>\n",
              "      <th>380</th>\n",
              "      <td>0.932792</td>\n",
              "      <td>0.513853</td>\n",
              "      <td>0.829156</td>\n",
              "      <td>-0.697741</td>\n",
              "      <td>0.623610</td>\n",
              "      <td>-0.334703</td>\n",
              "      <td>-0.449863</td>\n",
              "      <td>0.285954</td>\n",
              "      <td>-0.691357</td>\n",
              "      <td>-2.587035</td>\n",
              "      <td>-1.658312</td>\n",
              "      <td>-1.217269</td>\n",
              "    </tr>\n",
              "    <tr>\n",
              "      <th>9</th>\n",
              "      <td>-1.636059</td>\n",
              "      <td>0.513853</td>\n",
              "      <td>0.829156</td>\n",
              "      <td>0.358257</td>\n",
              "      <td>0.623610</td>\n",
              "      <td>-0.334703</td>\n",
              "      <td>1.127088</td>\n",
              "      <td>3.278038</td>\n",
              "      <td>2.476088</td>\n",
              "      <td>0.275694</td>\n",
              "      <td>0.603023</td>\n",
              "      <td>0.070594</td>\n",
              "    </tr>\n",
              "    <tr>\n",
              "      <th>22</th>\n",
              "      <td>-1.543488</td>\n",
              "      <td>0.513853</td>\n",
              "      <td>0.829156</td>\n",
              "      <td>-0.697741</td>\n",
              "      <td>0.623610</td>\n",
              "      <td>2.987720</td>\n",
              "      <td>0.627573</td>\n",
              "      <td>-0.581898</td>\n",
              "      <td>0.543824</td>\n",
              "      <td>0.275694</td>\n",
              "      <td>0.603023</td>\n",
              "      <td>0.070594</td>\n",
              "    </tr>\n",
              "    <tr>\n",
              "      <th>290</th>\n",
              "      <td>0.302151</td>\n",
              "      <td>0.513853</td>\n",
              "      <td>0.829156</td>\n",
              "      <td>1.414255</td>\n",
              "      <td>0.623610</td>\n",
              "      <td>-0.334703</td>\n",
              "      <td>-0.434639</td>\n",
              "      <td>0.238092</td>\n",
              "      <td>-0.263324</td>\n",
              "      <td>0.275694</td>\n",
              "      <td>0.603023</td>\n",
              "      <td>-1.217269</td>\n",
              "    </tr>\n",
              "  </tbody>\n",
              "</table>\n",
              "<p>223 rows × 12 columns</p>\n",
              "</div>\n",
              "      <button class=\"colab-df-convert\" onclick=\"convertToInteractive('df-b0851a59-7020-440d-9134-1625de96a9bc')\"\n",
              "              title=\"Convert this dataframe to an interactive table.\"\n",
              "              style=\"display:none;\">\n",
              "        \n",
              "  <svg xmlns=\"http://www.w3.org/2000/svg\" height=\"24px\"viewBox=\"0 0 24 24\"\n",
              "       width=\"24px\">\n",
              "    <path d=\"M0 0h24v24H0V0z\" fill=\"none\"/>\n",
              "    <path d=\"M18.56 5.44l.94 2.06.94-2.06 2.06-.94-2.06-.94-.94-2.06-.94 2.06-2.06.94zm-11 1L8.5 8.5l.94-2.06 2.06-.94-2.06-.94L8.5 2.5l-.94 2.06-2.06.94zm10 10l.94 2.06.94-2.06 2.06-.94-2.06-.94-.94-2.06-.94 2.06-2.06.94z\"/><path d=\"M17.41 7.96l-1.37-1.37c-.4-.4-.92-.59-1.43-.59-.52 0-1.04.2-1.43.59L10.3 9.45l-7.72 7.72c-.78.78-.78 2.05 0 2.83L4 21.41c.39.39.9.59 1.41.59.51 0 1.02-.2 1.41-.59l7.78-7.78 2.81-2.81c.8-.78.8-2.07 0-2.86zM5.41 20L4 18.59l7.72-7.72 1.47 1.35L5.41 20z\"/>\n",
              "  </svg>\n",
              "      </button>\n",
              "      \n",
              "  <style>\n",
              "    .colab-df-container {\n",
              "      display:flex;\n",
              "      flex-wrap:wrap;\n",
              "      gap: 12px;\n",
              "    }\n",
              "\n",
              "    .colab-df-convert {\n",
              "      background-color: #E8F0FE;\n",
              "      border: none;\n",
              "      border-radius: 50%;\n",
              "      cursor: pointer;\n",
              "      display: none;\n",
              "      fill: #1967D2;\n",
              "      height: 32px;\n",
              "      padding: 0 0 0 0;\n",
              "      width: 32px;\n",
              "    }\n",
              "\n",
              "    .colab-df-convert:hover {\n",
              "      background-color: #E2EBFA;\n",
              "      box-shadow: 0px 1px 2px rgba(60, 64, 67, 0.3), 0px 1px 3px 1px rgba(60, 64, 67, 0.15);\n",
              "      fill: #174EA6;\n",
              "    }\n",
              "\n",
              "    [theme=dark] .colab-df-convert {\n",
              "      background-color: #3B4455;\n",
              "      fill: #D2E3FC;\n",
              "    }\n",
              "\n",
              "    [theme=dark] .colab-df-convert:hover {\n",
              "      background-color: #434B5C;\n",
              "      box-shadow: 0px 1px 3px 1px rgba(0, 0, 0, 0.15);\n",
              "      filter: drop-shadow(0px 1px 2px rgba(0, 0, 0, 0.3));\n",
              "      fill: #FFFFFF;\n",
              "    }\n",
              "  </style>\n",
              "\n",
              "      <script>\n",
              "        const buttonEl =\n",
              "          document.querySelector('#df-b0851a59-7020-440d-9134-1625de96a9bc button.colab-df-convert');\n",
              "        buttonEl.style.display =\n",
              "          google.colab.kernel.accessAllowed ? 'block' : 'none';\n",
              "\n",
              "        async function convertToInteractive(key) {\n",
              "          const element = document.querySelector('#df-b0851a59-7020-440d-9134-1625de96a9bc');\n",
              "          const dataTable =\n",
              "            await google.colab.kernel.invokeFunction('convertToInteractive',\n",
              "                                                     [key], {});\n",
              "          if (!dataTable) return;\n",
              "\n",
              "          const docLinkHtml = 'Like what you see? Visit the ' +\n",
              "            '<a target=\"_blank\" href=https://colab.research.google.com/notebooks/data_table.ipynb>data table notebook</a>'\n",
              "            + ' to learn more about interactive tables.';\n",
              "          element.innerHTML = '';\n",
              "          dataTable['output_type'] = 'display_data';\n",
              "          await google.colab.output.renderOutput(dataTable, element);\n",
              "          const docLink = document.createElement('div');\n",
              "          docLink.innerHTML = docLinkHtml;\n",
              "          element.appendChild(docLink);\n",
              "        }\n",
              "      </script>\n",
              "    </div>\n",
              "  </div>\n",
              "  "
            ]
          },
          "metadata": {},
          "execution_count": 51
        }
      ]
    },
    {
      "cell_type": "code",
      "source": [
        "y_train"
      ],
      "metadata": {
        "colab": {
          "base_uri": "https://localhost:8080/"
        },
        "id": "wLKFA62T1y_I",
        "outputId": "35c201bd-8754-4a88-b647-8a5da0ce9d99"
      },
      "execution_count": 52,
      "outputs": [
        {
          "output_type": "execute_result",
          "data": {
            "text/plain": [
              "221    1\n",
              "516    0\n",
              "660    0\n",
              "527    0\n",
              "84     1\n",
              "      ..\n",
              "71     0\n",
              "106    0\n",
              "270    1\n",
              "435    0\n",
              "102    1\n",
              "Name: Loan_Status, Length: 452, dtype: int64"
            ]
          },
          "metadata": {},
          "execution_count": 52
        }
      ]
    },
    {
      "cell_type": "code",
      "source": [
        "y_test"
      ],
      "metadata": {
        "colab": {
          "base_uri": "https://localhost:8080/"
        },
        "id": "VqABsGQS11dM",
        "outputId": "0ffcdd9f-0ca5-4325-ddcc-0a7facc29a01"
      },
      "execution_count": 53,
      "outputs": [
        {
          "output_type": "execute_result",
          "data": {
            "text/plain": [
              "396    0\n",
              "302    1\n",
              "673    0\n",
              "541    0\n",
              "377    0\n",
              "      ..\n",
              "482    0\n",
              "380    1\n",
              "9      0\n",
              "22     1\n",
              "290    1\n",
              "Name: Loan_Status, Length: 223, dtype: int64"
            ]
          },
          "metadata": {},
          "execution_count": 53
        }
      ]
    }
  ]
}